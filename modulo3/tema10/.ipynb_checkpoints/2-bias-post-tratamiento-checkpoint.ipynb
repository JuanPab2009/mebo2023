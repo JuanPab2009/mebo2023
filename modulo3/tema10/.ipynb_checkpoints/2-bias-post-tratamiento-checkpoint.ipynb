{
 "cells": [
  {
   "cell_type": "markdown",
   "id": "27914566-1838-48ff-91e0-00f65938eee8",
   "metadata": {},
   "source": [
    "# Bias de post-tratamiento\n",
    "\n",
    "> Bias: a systematic distortion of a statistical result due to a factor not allowed for in its derivation.\n",
    "\n",
    "Es común preocuparse por inferencias erróneas producidas por omitir los predictores suficientes. Este tipo de errores se les llama **bias de omisión de variables**, y lo que vimos en el tema anterior nos da una muestra de lo que puede suceder.\n",
    "\n",
    "Sin embargo, no es común preocuparse por inferencias erróneas por incluir predictores. Sin embargo, el **bias de inclusión de variables** es real. Meter todas las variables en nuestro modelo no es una buena idea.\n",
    "\n",
    "Este tipo de bias se puede presentar en varias formas. La primera que veremos es el **bias de post-tratamiento**.\n",
    "\n",
    "> **Objetivos:**\n",
    "> - Entender el problema de bias de post-tratamiento.\n",
    "\n",
    "\n",
    "> **Referencias:**\n",
    "> \n",
    "> - Statistical Rethinking: A Bayesian Course with Examples in R and Stan (2nd edition) - Richard McElreath."
   ]
  },
  {
   "cell_type": "markdown",
   "id": "47ecce4f-ea0f-4db2-b2a0-b4992b6fdfee",
   "metadata": {},
   "source": [
    "## 1. Bias de post-tratamiento\n",
    "\n",
    "La palabra post-tratamiento proviene de la idea de diseño de experimentos.\n",
    "\n",
    "Supongamos que cultivamos plantas en un invernadero, y queremos saber la diferencia entre cultivarlas bajo los efectos de diferentes fungicidas, dado que los hongos en las plantas suelen reducir su crecimiento.\n",
    "\n",
    "Inicialmente las plantas son sembradas, y luego brotan, momento en el cual sus tamaños son medidos. Los diferentes tratamientos son llevados a cabo. Después, se miden sus tamaños finales así como la presencia de hongos.\n",
    "\n",
    "Nuestras variables son entonces:\n",
    "\n",
    "* Altura inicial\n",
    "* Altura final -> Resultado\n",
    "* Tratamiento\n",
    "* Presencia de hongos\n",
    "\n",
    "¿Cuáles de estas variables deberíamos incluir en un modelo para predecir la altura final de las plantas? Sucede que si queremos razonar de manera causal, no deberíamos incluir la variable de presencia de hongos, dado que es un efecto post-tratamiento.\n",
    "\n",
    "Veamos esto con datos simulados:"
   ]
  },
  {
   "cell_type": "code",
   "execution_count": null,
   "id": "f801d7d0-8a9a-41ef-838b-ca8283a200c7",
   "metadata": {},
   "outputs": [],
   "source": [
    "# Importar scipy.stats norm, binom\n",
    "\n",
    "# Importar numpy\n",
    "\n",
    "# Importar pandas\n"
   ]
  },
  {
   "cell_type": "code",
   "execution_count": null,
   "id": "9656e2ab-5ed7-424f-9e72-a8813a57e845",
   "metadata": {},
   "outputs": [],
   "source": [
    "# Número de plantas\n",
    "\n",
    "\n",
    "# Alturas iniciales\n",
    "\n",
    "\n",
    "# Simulamos tratamiento para la mitad de las plantas\n",
    "\n",
    "# Simulamos presencia de hongos\n",
    "\n",
    "# Simulamos altura final\n",
    "\n",
    "\n",
    "# Dataframe\n"
   ]
  },
  {
   "cell_type": "code",
   "execution_count": null,
   "id": "d13ef70f-1587-4e32-b288-18ec99279d0d",
   "metadata": {},
   "outputs": [],
   "source": [
    "# método head\n"
   ]
  },
  {
   "cell_type": "markdown",
   "id": "5d6e295c-a87b-4136-879d-c3c97ee3faec",
   "metadata": {},
   "source": [
    "Al diseñar el modelo, debemos hacer de cuenta que no conocemos el proceso que genera los datos. En una situación real no conoceremos dicho proceso, más tendremos información científica que nos apoyará en la construcción del modelo.\n",
    "\n",
    "En este caso, sabemos que las plantas al final serán más altas que al inicio. De esta manera, si modelamos los parámetros de forma proporcional al tamaño de las plantas al inicio, será más fácil razonar acerca de las previas. Enfocándonos en las variables de tamaño:\n",
    "\n",
    "$$\n",
    "\\begin{array}{ccc}\n",
    "h_{end, i} & \\sim & \\text{Normal}(\\mu_i, \\sigma) \\\\\n",
    "\\mu_i & = & h_{ini, i} \\times p\n",
    "\\end{array}\n",
    "$$"
   ]
  },
  {
   "cell_type": "markdown",
   "id": "6f1163a8-b666-47b0-ac29-9ec33b2eb116",
   "metadata": {},
   "source": [
    "En este caso, $p$ es la proporción promedio del tamaño final respecto al tamaño inicial:\n",
    "\n",
    "- Si $p=1$, quiere decir que la planta no creció.\n",
    "- Si $p=2$, quiere decir que la planta duplicó su tamaño.\n",
    "\n",
    "De forma que debemos centrar nuestra previa de $p$ en 1, e incluso dejar que $p$ pueda ser menor a 1 (recordemos que no sabemos como se generaron los datos). Sin embargo, debemos asegurar que $p$ sea positiva. Una buena elección es:\n",
    "\n",
    "$$\n",
    "p \\sim \\text{Log-Normal}(0, 0.25)\n",
    "$$"
   ]
  },
  {
   "cell_type": "code",
   "execution_count": null,
   "id": "e5866a79-5e9e-41a1-8647-d3ba40a5fdfe",
   "metadata": {},
   "outputs": [],
   "source": [
    "# Importar scipy.stats lognorm\n",
    "\n",
    "# Importar pyplot\n"
   ]
  },
  {
   "cell_type": "code",
   "execution_count": null,
   "id": "dd293649-64fc-4a73-a4c1-bbd5ce1ccd9a",
   "metadata": {},
   "outputs": [],
   "source": [
    "# Densidad log-normal\n"
   ]
  },
  {
   "cell_type": "markdown",
   "id": "08258605-8af1-4d99-8d7f-530793937825",
   "metadata": {},
   "source": [
    "Por lo que esta elección espera una reducción desde el 40% hasta un aumente del 50%.\n",
    "\n",
    "Ajustemos este modelo inicial:"
   ]
  },
  {
   "cell_type": "code",
   "execution_count": null,
   "id": "b9f9cf35-f89d-4ce7-aa8f-5197ae9fd76b",
   "metadata": {},
   "outputs": [],
   "source": [
    "# Importar pymc\n",
    "\n",
    "# Importar arviz\n"
   ]
  },
  {
   "cell_type": "code",
   "execution_count": null,
   "id": "faad075b-7822-4755-8c9d-d421a6d2725a",
   "metadata": {},
   "outputs": [],
   "source": [
    "# Modelo de altura de plantas\n"
   ]
  },
  {
   "cell_type": "code",
   "execution_count": null,
   "id": "ed7d9722-d1e4-4634-bcc0-6731bb11d01e",
   "metadata": {},
   "outputs": [],
   "source": [
    "# Summary\n"
   ]
  },
  {
   "cell_type": "markdown",
   "id": "4ebf5173-c68c-4867-a462-ef7dbd8334b3",
   "metadata": {},
   "source": [
    "Se espera un crecimiento promedio del 40%.\n",
    "\n",
    "Ahora, incluyamos las variables de tratamiento y hongos. Recordemos que los parámetros estarán en la escala de la proporción:\n",
    "\n",
    "$$\n",
    "\\begin{array}{ccc}\n",
    "h_{end, i} & \\sim & \\text{Normal}(\\mu_i, \\sigma) \\\\\n",
    "\\mu_i & = & h_{ini, i} \\times p \\\\\n",
    "p & = & \\alpha + \\beta_T t_i + \\beta_F f_i \\\\\n",
    "\\alpha & \\sim & \\text{Log-Normal}(0, 0.25) \\\\\n",
    "\\beta_T & \\sim & \\text{Normal}(0, 0.5) \\\\\n",
    "\\beta_F & \\sim & \\text{Normal}(0, 0.5) \\\\\n",
    "\\sigma  & \\sim & \\text{Exponential}(1) \\\\\n",
    "\\end{array}\n",
    "$$\n",
    "\n",
    "con esta elección, esperamos con 95% de certeza que que la proporción se reducirá -1 (-100%) o se incrementará +1 (+100%):"
   ]
  },
  {
   "cell_type": "code",
   "execution_count": null,
   "id": "c1dcea1f-d22e-415c-bdbe-c7cf1bde6864",
   "metadata": {},
   "outputs": [],
   "source": [
    "# Modelo predictivo\n"
   ]
  },
  {
   "cell_type": "code",
   "execution_count": null,
   "id": "78c34531-6c1c-4d62-a5f4-84e900279ba4",
   "metadata": {},
   "outputs": [],
   "source": [
    "# Summary\n"
   ]
  },
  {
   "cell_type": "markdown",
   "id": "21f743e6-0d16-429a-92ee-6ec0f544228b",
   "metadata": {},
   "source": [
    "El parámetro $\\alpha$ es idéntico al que estimamos antes para $p$. La posterior para $b_T$, que representa el efecto del tratamiento es prácticamente cero, lo que nos dice que el tratamiento no está asociado con el creciemiento, lo cual sabemos no es cierto (nosotros construimos los datos). **¿Qué pasó?**"
   ]
  },
  {
   "cell_type": "markdown",
   "id": "d7fb89af-228d-458e-869c-29aa0c452075",
   "metadata": {},
   "source": [
    "El problema es que la variables indicadora de hongos es una consecuencia directa del tratamiento. Es decir, es una **variable post-tratamiento**. De forma que cuando controlamos (incluimos la variable en el modelo) para los hongos, el modelo está respondiendo la pregunta:\n",
    "\n",
    "> Una vez sabemos que la planta desarrolló o no hongos, ¿Tiene algún efecto el tratamiento en el crecimiento?\n",
    "\n",
    "La respuesta es un rotundo **no**, pues el tratamiento impacta el crecimiento a través de reducir los hongos. ¿Qué debemos hacer?\n",
    "\n",
    "$$\n",
    "\\begin{array}{ccc}\n",
    "h_{end, i} & \\sim & \\text{Normal}(\\mu_i, \\sigma) \\\\\n",
    "\\mu_i & = & h_{ini, i} \\times p \\\\\n",
    "p & = & \\alpha + \\beta_T t_i \\\\\n",
    "\\alpha & \\sim & \\text{Log-Normal}(0, 0.25) \\\\\n",
    "\\beta_T & \\sim & \\text{Normal}(0, 0.5) \\\\\n",
    "\\sigma  & \\sim & \\text{Exponential}(1) \\\\\n",
    "\\end{array}\n",
    "$$"
   ]
  },
  {
   "cell_type": "code",
   "execution_count": null,
   "id": "7d58ebeb-4849-4d22-bd75-d6e3b53fe101",
   "metadata": {},
   "outputs": [],
   "source": [
    "# Modelo de solo el tratamiento\n"
   ]
  },
  {
   "cell_type": "code",
   "execution_count": null,
   "id": "4e789f01-4796-44e6-a1c4-c2b4e771a034",
   "metadata": {},
   "outputs": [],
   "source": [
    "# Summary\n"
   ]
  },
  {
   "cell_type": "markdown",
   "id": "ba4017b8-7255-44c8-8153-a99ca963a372",
   "metadata": {},
   "source": [
    "Ahora podemos observar el efecto positivo del tratamiento en el crecimiento de las plantas, como debe de ser. Hace sentido controlar las variables *pre-tratamiento*, como el tamaño inicial, sin embargo, las variables post-tratamiento enmascaran el efecto del tratamiento en sí.\n",
    "\n",
    "La pregunta es entonces, ¿porqué sucede esto?\n",
    "\n",
    "Para esto, veamos cuál es el flujo de influencia probabilística a través de un modelo gráfico:"
   ]
  },
  {
   "cell_type": "code",
   "execution_count": null,
   "id": "d25813b8-bbd8-46ec-be3a-da3ffd64de4f",
   "metadata": {},
   "outputs": [],
   "source": [
    "# Importar daft\n",
    "import daft\n",
    "# Importar causalgraphicalmodels\n",
    "from causalgraphicalmodels import CausalGraphicalModel"
   ]
  },
  {
   "cell_type": "code",
   "execution_count": null,
   "id": "f21af4af-5a11-4da1-b832-586ccb3d8648",
   "metadata": {},
   "outputs": [],
   "source": [
    "# Función para dibujar modelos gráficos\n",
    "def draw_dag(dag, coordinates):\n",
    "    pgm = daft.PGM()\n",
    "    for node in dag.dag.nodes:\n",
    "        pgm.add_node(node, node, *coordinates[node])\n",
    "    for edge in dag.dag.edges:\n",
    "        pgm.add_edge(*edge)\n",
    "    pgm.render()\n",
    "    plt.gca().invert_yaxis()"
   ]
  },
  {
   "cell_type": "code",
   "execution_count": null,
   "id": "41cb5972-9203-4254-b3cb-30d82e9c16d0",
   "metadata": {},
   "outputs": [],
   "source": [
    "plant_dag = CausalGraphicalModel(\n",
    "    nodes=[\"Hini\", \"Hend\", \"F\", \"T\"],\n",
    "    edges=[(\"Hini\", \"Hend\"), (\"F\", \"Hend\"), (\"T\", \"F\")]\n",
    ")\n",
    "coordinates = {\"Hini\": (0, 0), \"T\": (4, 0), \"F\": (3, 0), \"Hend\": (2, 0)}\n",
    "\n",
    "draw_dag(plant_dag, coordinates)"
   ]
  },
  {
   "cell_type": "markdown",
   "id": "e324e527-1218-4ecf-9d4a-028b88f4652e",
   "metadata": {},
   "source": [
    "El tratamiento $T$ influencia la presencia de hongos $F$, la cual a su vez influencia el tamaño final de la planta $H_{end}$. El tamaño final de la planta también es influenciado por el tamaño inicial de laplanta $H_{ini}$.\n",
    "\n",
    "Lo que sucede cuando incluimos la variable de hongos en el modelo es que **bloqueamos** el flujo de influencia probabilística de $T$ hacia $H_{end}$."
   ]
  },
  {
   "cell_type": "code",
   "execution_count": null,
   "id": "2003227e-fbb6-4c68-be08-a1f2d7932f56",
   "metadata": {},
   "outputs": [],
   "source": [
    "plant_dag.get_all_independence_relationships()"
   ]
  }
 ],
 "metadata": {
  "kernelspec": {
   "display_name": "Python 3 (ipykernel)",
   "language": "python",
   "name": "python3"
  },
  "language_info": {
   "codemirror_mode": {
    "name": "ipython",
    "version": 3
   },
   "file_extension": ".py",
   "mimetype": "text/x-python",
   "name": "python",
   "nbconvert_exporter": "python",
   "pygments_lexer": "ipython3",
   "version": "3.10.12"
  }
 },
 "nbformat": 4,
 "nbformat_minor": 5
}
