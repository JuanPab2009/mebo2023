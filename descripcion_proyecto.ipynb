{
 "cells": [
  {
   "cell_type": "markdown",
   "metadata": {},
   "source": [
    "# Proyecto Final - Métodos Estadísticos Bayesianos\n",
    "\n"
   ]
  },
  {
   "cell_type": "markdown",
   "metadata": {},
   "source": [
    "## 0. Estructura sugerida del trabajo\n",
    "\n",
    "- Título\n",
    "- Motivación / Introducción\n",
    "- Objetivos:\n",
    "  - Objetivo general\n",
    "  - Objetivos específicos\n",
    "- Tratar los puntos a continuación"
   ]
  },
  {
   "cell_type": "markdown",
   "metadata": {},
   "source": [
    "## 1. Descripción del problema\n",
    "\n",
    "La primera parte del proyecto será describir el problema que están intentando resolver, y el proceso de generación de los datos (cómo se obtienen los datos).\n",
    "\n",
    "No se debería incluir solo texto, sino también diagramas, imágenes y cualquier tipo de apoyo visual para soportar la descripción."
   ]
  },
  {
   "cell_type": "markdown",
   "metadata": {},
   "source": [
    "## 2. Modelo que representa el problema\n",
    "\n",
    "Una vez descrito el problema, debes proponer un modelo de la situación. Este modelo puede ser:\n",
    "\n",
    "- Regresor lineal Bayesiano (problema de regresión).\n",
    "- Regresor logístico Bayesiano (problema de clasificación).\n",
    "  \n",
    "Escribir claramente cuáles son las limitaciones de su modelo."
   ]
  },
  {
   "cell_type": "markdown",
   "metadata": {},
   "source": [
    "## 3. Interpretación del modelo\n",
    "\n",
    "Debes interpretar los parámetros del modelo, e incluir gráficos para evaluar como los predictores afectan la variable de respuesta (los gráficos contrafactuales suelen ser bastante útiles)."
   ]
  },
  {
   "cell_type": "markdown",
   "metadata": {},
   "source": [
    "## 4. Evaluación del modelo\n",
    "\n",
    "Debes de evaluar el modelo respecto a un conjunto de datos de validación y reportar qué tan bueno es tu modelo para la tarea que fue diseñado."
   ]
  },
  {
   "cell_type": "markdown",
   "metadata": {},
   "source": [
    "<script>\n",
    "  $(document).ready(function(){\n",
    "    $('div.prompt').hide();\n",
    "    $('div.back-to-top').hide();\n",
    "    $('nav#menubar').hide();\n",
    "    $('.breadcrumb').hide();\n",
    "    $('.hidden-print').hide();\n",
    "  });\n",
    "</script>\n",
    "\n",
    "<footer id=\"attribution\" style=\"float:right; color:#808080; background:#fff;\">\n",
    "Created with Jupyter by Esteban Jiménez Rodríguez.\n",
    "</footer>"
   ]
  }
 ],
 "metadata": {
  "kernelspec": {
   "display_name": "Python 3 (ipykernel)",
   "language": "python",
   "name": "python3"
  },
  "language_info": {
   "codemirror_mode": {
    "name": "ipython",
    "version": 3
   },
   "file_extension": ".py",
   "mimetype": "text/x-python",
   "name": "python",
   "nbconvert_exporter": "python",
   "pygments_lexer": "ipython3",
   "version": "3.10.12"
  }
 },
 "nbformat": 4,
 "nbformat_minor": 4
}
